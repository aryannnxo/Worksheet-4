{
  "nbformat": 4,
  "nbformat_minor": 0,
  "metadata": {
    "colab": {
      "provenance": []
    },
    "kernelspec": {
      "name": "python3",
      "display_name": "Python 3"
    },
    "language_info": {
      "name": "python"
    }
  },
  "cells": [
    {
      "cell_type": "code",
      "execution_count": 1,
      "metadata": {
        "id": "u_IJMD6ZF8fF"
      },
      "outputs": [],
      "source": [
        "# Imports\n",
        "import pandas as pd\n",
        "from sklearn.preprocessing import StandardScaler\n",
        "import time\n",
        "import matplotlib.pyplot as plt\n",
        "import numpy as np"
      ]
    },
    {
      "cell_type": "code",
      "source": [
        "# Problem - 1: Perform a classification task with knn from scratch.\n",
        "\n",
        "# 1. Load the Dataset:\n",
        "# • Read the dataset into a pandas DataFrame.\n",
        "dataset_path = \"/content/drive/MyDrive/Dataset/diabetes.csv\"\n",
        "df = pd.read_csv(dataset_path)\n",
        "\n",
        "# • Display the first few rows and perform exploratory data analysis (EDA) to understand the dataset\n",
        "# (e.g., check data types, missing values, summary statistics).\n",
        "print(\"First few rows of the dataset:\")\n",
        "print(df.head())\n",
        "\n",
        "print(\"\\nData Types:\")\n",
        "print(df.dtypes)\n",
        "\n",
        "print(\"\\nMissing Values:\")\n",
        "print(df.isnull().sum())\n",
        "\n",
        "print(\"\\nSummary Statistics:\")\n",
        "print(df.describe())"
      ],
      "metadata": {
        "colab": {
          "base_uri": "https://localhost:8080/"
        },
        "id": "D_Ine4KQGHyG",
        "outputId": "467a95ed-dc30-4f82-8664-734a146cb487"
      },
      "execution_count": 2,
      "outputs": [
        {
          "output_type": "stream",
          "name": "stdout",
          "text": [
            "First few rows of the dataset:\n",
            "   Pregnancies  Glucose  BloodPressure  SkinThickness  Insulin   BMI  \\\n",
            "0            6      148             72             35        0  33.6   \n",
            "1            1       85             66             29        0  26.6   \n",
            "2            8      183             64              0        0  23.3   \n",
            "3            1       89             66             23       94  28.1   \n",
            "4            0      137             40             35      168  43.1   \n",
            "\n",
            "   DiabetesPedigreeFunction  Age  Outcome  \n",
            "0                     0.627   50        1  \n",
            "1                     0.351   31        0  \n",
            "2                     0.672   32        1  \n",
            "3                     0.167   21        0  \n",
            "4                     2.288   33        1  \n",
            "\n",
            "Data Types:\n",
            "Pregnancies                   int64\n",
            "Glucose                       int64\n",
            "BloodPressure                 int64\n",
            "SkinThickness                 int64\n",
            "Insulin                       int64\n",
            "BMI                         float64\n",
            "DiabetesPedigreeFunction    float64\n",
            "Age                           int64\n",
            "Outcome                       int64\n",
            "dtype: object\n",
            "\n",
            "Missing Values:\n",
            "Pregnancies                 0\n",
            "Glucose                     0\n",
            "BloodPressure               0\n",
            "SkinThickness               0\n",
            "Insulin                     0\n",
            "BMI                         0\n",
            "DiabetesPedigreeFunction    0\n",
            "Age                         0\n",
            "Outcome                     0\n",
            "dtype: int64\n",
            "\n",
            "Summary Statistics:\n",
            "       Pregnancies     Glucose  BloodPressure  SkinThickness     Insulin  \\\n",
            "count   768.000000  768.000000     768.000000     768.000000  768.000000   \n",
            "mean      3.845052  120.894531      69.105469      20.536458   79.799479   \n",
            "std       3.369578   31.972618      19.355807      15.952218  115.244002   \n",
            "min       0.000000    0.000000       0.000000       0.000000    0.000000   \n",
            "25%       1.000000   99.000000      62.000000       0.000000    0.000000   \n",
            "50%       3.000000  117.000000      72.000000      23.000000   30.500000   \n",
            "75%       6.000000  140.250000      80.000000      32.000000  127.250000   \n",
            "max      17.000000  199.000000     122.000000      99.000000  846.000000   \n",
            "\n",
            "              BMI  DiabetesPedigreeFunction         Age     Outcome  \n",
            "count  768.000000                768.000000  768.000000  768.000000  \n",
            "mean    31.992578                  0.471876   33.240885    0.348958  \n",
            "std      7.884160                  0.331329   11.760232    0.476951  \n",
            "min      0.000000                  0.078000   21.000000    0.000000  \n",
            "25%     27.300000                  0.243750   24.000000    0.000000  \n",
            "50%     32.000000                  0.372500   29.000000    0.000000  \n",
            "75%     36.600000                  0.626250   41.000000    1.000000  \n",
            "max     67.100000                  2.420000   81.000000    1.000000  \n"
          ]
        }
      ]
    },
    {
      "cell_type": "code",
      "source": [
        "# 2. Handle Missing Data:\n",
        "# • Handle any missing values appropriately, either by dropping or imputing them based on the data.\n",
        "print(\"Missing Values Before Handling:\")\n",
        "print(df.isnull().sum())\n",
        "\n",
        "df_cleaned = df.dropna()\n",
        "\n",
        "print(\"\\nMissing Values After Handling:\")\n",
        "print(df_cleaned.isnull().sum())"
      ],
      "metadata": {
        "colab": {
          "base_uri": "https://localhost:8080/"
        },
        "id": "PmuP3JohGQO6",
        "outputId": "e1cc8723-8d09-4eb3-8a86-8b7deae2b835"
      },
      "execution_count": 3,
      "outputs": [
        {
          "output_type": "stream",
          "name": "stdout",
          "text": [
            "Missing Values Before Handling:\n",
            "Pregnancies                 0\n",
            "Glucose                     0\n",
            "BloodPressure               0\n",
            "SkinThickness               0\n",
            "Insulin                     0\n",
            "BMI                         0\n",
            "DiabetesPedigreeFunction    0\n",
            "Age                         0\n",
            "Outcome                     0\n",
            "dtype: int64\n",
            "\n",
            "Missing Values After Handling:\n",
            "Pregnancies                 0\n",
            "Glucose                     0\n",
            "BloodPressure               0\n",
            "SkinThickness               0\n",
            "Insulin                     0\n",
            "BMI                         0\n",
            "DiabetesPedigreeFunction    0\n",
            "Age                         0\n",
            "Outcome                     0\n",
            "dtype: int64\n"
          ]
        }
      ]
    },
    {
      "cell_type": "code",
      "source": [
        "# 3. Feature Engineering:\n",
        "# • Separate the feature matrix (X) and target variable (y).\n",
        "X = df_cleaned.drop(columns=['Outcome'])\n",
        "y = df_cleaned['Outcome']\n",
        "\n",
        "# • Perform a train - test split from scratch using a 70% − 30% ratio.\n",
        "split_index = int(0.7 * len(X))\n",
        "\n",
        "shuffled_indices = np.random.permutation(len(X))\n",
        "X = X.iloc[shuffled_indices]\n",
        "y = y.iloc[shuffled_indices]\n",
        "\n",
        "# Split the data\n",
        "X_train, X_test = X[:split_index], X[split_index:]\n",
        "y_train, y_test = y[:split_index], y[split_index:]\n",
        "\n",
        "# Display the resulting splits\n",
        "print(\"Shape of Training Features (X_train):\", X_train.shape)\n",
        "print(\"Shape of Training Target (y_train):\", y_train.shape)\n",
        "print(\"Shape of Testing Features (X_test):\", X_test.shape)\n",
        "print(\"Shape of Testing Target (y_test):\", y_test.shape)"
      ],
      "metadata": {
        "colab": {
          "base_uri": "https://localhost:8080/"
        },
        "id": "IXo-CNMoGT_K",
        "outputId": "36eba0f7-7550-41bd-f457-956240d2a0bd"
      },
      "execution_count": 4,
      "outputs": [
        {
          "output_type": "stream",
          "name": "stdout",
          "text": [
            "Shape of Training Features (X_train): (537, 8)\n",
            "Shape of Training Target (y_train): (537,)\n",
            "Shape of Testing Features (X_test): (231, 8)\n",
            "Shape of Testing Target (y_test): (231,)\n"
          ]
        }
      ]
    },
    {
      "cell_type": "code",
      "source": [
        "# 4. Implement KNN:\n",
        "# • Build the KNN algorithm from scratch (no libraries like sickit-learn for KNN).\n",
        "\n",
        "# • Compute distances using Euclidean distance.\n",
        "def euclidean_distance(x1, x2):\n",
        "    return np.sqrt(np.sum((x1 - x2) ** 2))\n",
        "\n",
        "# • Write functions for:\n",
        "\n",
        "# – Predicting the class for a single query.\n",
        "def predict_single(query_point, X_train, y_train, k):\n",
        "    distances = []\n",
        "    for i in range(len(X_train)):\n",
        "        dist = euclidean_distance(query_point, X_train[i])\n",
        "        distances.append((dist, y_train[i]))\n",
        "    distances.sort(key=lambda x: x[0])\n",
        "    k_neighbors = [neighbor[1] for neighbor in distances[:k]]\n",
        "\n",
        "    # Return the most common class\n",
        "    return max(set(k_neighbors), key=k_neighbors.count)\n",
        "\n",
        "# – Predicting classes for all test samples.\n",
        "def predict(X_test, X_train, y_train, k):\n",
        "    predictions = []\n",
        "    for query_point in X_test:\n",
        "        pred = predict_single(query_point, X_train, y_train, k)\n",
        "        predictions.append(pred)\n",
        "    return np.array(predictions)\n",
        "\n",
        "# • Evaluate the performance using accuracy.\n",
        "def evaluate_accuracy(y_test, y_pred):\n",
        "    return np.mean(y_test == y_pred)\n",
        "\n",
        "X_train_np = X_train.to_numpy()\n",
        "y_train_np = y_train.to_numpy()\n",
        "X_test_np = X_test.to_numpy()\n",
        "y_test_np = y_test.to_numpy()\n",
        "\n",
        "k = 3\n",
        "y_pred = predict(X_test_np, X_train_np, y_train_np, k)\n",
        "accuracy = evaluate_accuracy(y_test_np, y_pred)\n",
        "\n",
        "print(f\"Accuracy of KNN classifier with k={k}: {accuracy:.2f}\")"
      ],
      "metadata": {
        "colab": {
          "base_uri": "https://localhost:8080/"
        },
        "id": "m6XIOXY1GZ-8",
        "outputId": "832346a2-98eb-4619-9a96-e8d7aa4a81b8"
      },
      "execution_count": 5,
      "outputs": [
        {
          "output_type": "stream",
          "name": "stdout",
          "text": [
            "Accuracy of KNN classifier with k=3: 0.70\n"
          ]
        }
      ]
    },
    {
      "cell_type": "code",
      "source": [
        "# Problem - 2 - Experimentation:\n",
        "\n",
        "# 1. Repeat the Classification Task:\n",
        "# • Scale the Feature matrix X.\n",
        "scaler = StandardScaler()\n",
        "X_train_scaled = scaler.fit_transform(X_train)\n",
        "X_test_scaled = scaler.transform(X_test)\n",
        "\n",
        "# • Use the scaled data for training and testing the kNN Classifier.\n",
        "# • Record the results.\n",
        "y_pred_scaled = predict(X_test_scaled, X_train_scaled, y_train_np, k)\n",
        "\n",
        "accuracy_scaled = evaluate_accuracy(y_test_np, y_pred_scaled)\n",
        "\n",
        "print(f\"Accuracy of KNN classifier with k={k} on scaled data: {accuracy_scaled:.2f}\")"
      ],
      "metadata": {
        "colab": {
          "base_uri": "https://localhost:8080/"
        },
        "id": "6sdkM7HnGfHh",
        "outputId": "1f876ed1-5a65-4620-d241-4e7f84d139db"
      },
      "execution_count": 6,
      "outputs": [
        {
          "output_type": "stream",
          "name": "stdout",
          "text": [
            "Accuracy of KNN classifier with k=3 on scaled data: 0.74\n"
          ]
        }
      ]
    },
    {
      "cell_type": "code",
      "source": [
        "# 2. Comparative Analysis: Compare the Results -\n",
        "# • Compare the accuracy and performance of the kNN model on the original dataset from problem 1 versus the scaled dataset.\n",
        "y_pred_original = predict(X_test_np, X_train_np, y_train_np, k)\n",
        "accuracy_original = evaluate_accuracy(y_test_np, y_pred_original)\n",
        "\n",
        "print(f\"Accuracy of KNN classifier with k={k} on original data: {accuracy_original:.2f}\")\n",
        "print(f\"Accuracy of KNN classifier with k={k} on scaled data: {accuracy_scaled:.2f}\")"
      ],
      "metadata": {
        "colab": {
          "base_uri": "https://localhost:8080/"
        },
        "id": "lCl504N0Gr_w",
        "outputId": "22f6f014-7a9b-4c1c-a874-469840f90cee"
      },
      "execution_count": 7,
      "outputs": [
        {
          "output_type": "stream",
          "name": "stdout",
          "text": [
            "Accuracy of KNN classifier with k=3 on original data: 0.70\n",
            "Accuracy of KNN classifier with k=3 on scaled data: 0.74\n"
          ]
        }
      ]
    },
    {
      "cell_type": "code",
      "source": [
        "\n",
        "# Problem - 3 - Experimentation with k:\n",
        "# 1. Vary the number of neighbors - k:\n",
        "\n",
        "k_values = list(range(1, 16))  # k values from 1 to 15\n",
        "accuracy_original = []\n",
        "accuracy_scaled = []\n",
        "time_original = []\n",
        "time_scaled = []\n",
        "\n",
        "# • Run the KNN model on both the original and scaled datasets for a range of:\n",
        "# k= 1, 2, 3, . . . 15\n",
        "# • For each k, record:\n",
        "\n",
        "for k in k_values:\n",
        "    # Time for original data\n",
        "    start_time = time.time()\n",
        "    y_pred_original = predict(X_test_np, X_train_np, y_train_np, k)\n",
        "    time_taken_original = time.time() - start_time\n",
        "    accuracy_original.append(evaluate_accuracy(y_test_np, y_pred_original))\n",
        "    time_original.append(time_taken_original)\n",
        "\n",
        "    # Time for scaled data\n",
        "    start_time = time.time()\n",
        "    y_pred_scaled = predict(X_test_scaled, X_train_scaled, y_train_np, k)\n",
        "    time_taken_scaled = time.time() - start_time\n",
        "    accuracy_scaled.append(evaluate_accuracy(y_test_np, y_pred_scaled))\n",
        "    time_scaled.append(time_taken_scaled)\n",
        "\n",
        "    # Print progress every 5 steps to check status\n",
        "    if k % 5 == 0:\n",
        "        print(f\"Completed k={k}...\")\n",
        "\n",
        "print(f\"Length of k_values: {len(k_values)}\")\n",
        "print(f\"Length of time_scaled: {len(time_scaled)}\")\n",
        "\n",
        "print(\"k\\tAccuracy (Original)\\tTime (Original)\\tAccuracy (Scaled)\\tTime (Scaled)\")\n",
        "for k, acc_orig, time_orig, acc_scaled, time_scaled in zip(k_values, accuracy_original, time_original, accuracy_scaled, time_scaled):\n",
        "    print(f\"{k}\\t{acc_orig:.4f}\\t\\t{time_orig:.4f}\\t\\t{acc_scaled:.4f}\\t\\t{time_scaled:.4f}\")"
      ],
      "metadata": {
        "colab": {
          "base_uri": "https://localhost:8080/"
        },
        "id": "XI3RzwtpGvmr",
        "outputId": "53f9f6c2-ddb2-49e8-a662-4ee42b9f6f35"
      },
      "execution_count": 8,
      "outputs": [
        {
          "output_type": "stream",
          "name": "stdout",
          "text": [
            "Completed k=5...\n",
            "Completed k=10...\n",
            "Completed k=15...\n",
            "Length of k_values: 15\n",
            "Length of time_scaled: 15\n",
            "k\tAccuracy (Original)\tTime (Original)\tAccuracy (Scaled)\tTime (Scaled)\n",
            "1\t0.6450\t\t0.9542\t\t0.7273\t\t0.8938\n",
            "2\t0.6710\t\t0.9271\t\t0.7186\t\t0.9835\n",
            "3\t0.7013\t\t1.0340\t\t0.7403\t\t0.9133\n",
            "4\t0.6883\t\t0.8885\t\t0.7316\t\t0.8955\n",
            "5\t0.6970\t\t1.3202\t\t0.7359\t\t1.6327\n",
            "6\t0.7316\t\t1.7223\t\t0.7316\t\t1.1731\n",
            "7\t0.7316\t\t0.9251\t\t0.7446\t\t0.9856\n",
            "8\t0.7446\t\t0.9375\t\t0.7316\t\t0.8849\n",
            "9\t0.7316\t\t0.8941\t\t0.7446\t\t0.9101\n",
            "10\t0.7359\t\t0.8799\t\t0.7489\t\t0.8792\n",
            "11\t0.7489\t\t0.8957\t\t0.7532\t\t0.8784\n",
            "12\t0.7446\t\t1.2587\t\t0.7576\t\t1.5576\n",
            "13\t0.7532\t\t1.6357\t\t0.7576\t\t1.2405\n",
            "14\t0.7532\t\t0.8897\t\t0.7489\t\t0.8992\n",
            "15\t0.7749\t\t0.8672\t\t0.7489\t\t0.8691\n"
          ]
        }
      ]
    },
    {
      "cell_type": "code",
      "source": [
        "# 2. Visualize the Results:\n",
        "# • Plot the following graphs:\n",
        "# – k vs. Accuracy for original and scaled datasets.\n",
        "plt.figure(figsize=(10, 6))\n",
        "plt.plot(k_values, accuracy_original, label=\"Accuracy (Original)\", color='blue', marker='o')\n",
        "plt.plot(k_values, accuracy_scaled, label=\"Accuracy (Scaled)\", color='green', marker='x')\n",
        "plt.title(\"k vs Accuracy\")\n",
        "plt.xlabel(\"k (Number of Neighbors)\")\n",
        "plt.ylabel(\"Accuracy\")\n",
        "plt.legend()\n",
        "plt.grid(True)\n",
        "plt.show()\n",
        "\n"
      ],
      "metadata": {
        "colab": {
          "base_uri": "https://localhost:8080/",
          "height": 564
        },
        "id": "lDltyVLfG0AP",
        "outputId": "54458ae0-0a06-4f3c-bef6-112ee7ab7073"
      },
      "execution_count": 9,
      "outputs": [
        {
          "output_type": "display_data",
          "data": {
            "text/plain": [
              "<Figure size 1000x600 with 1 Axes>"
            ],
            "image/png": "[encoded data removed]"
          },
          "metadata": {}
        }
      ]
    }
  ]
}